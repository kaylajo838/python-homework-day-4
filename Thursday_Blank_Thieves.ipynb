{
 "cells": [
  {
   "cell_type": "markdown",
   "metadata": {},
   "source": [
    "# Object-Oriented-Programming (OOP)"
   ]
  },
  {
   "cell_type": "markdown",
   "metadata": {},
   "source": [
    "## Tasks Today:\n",
    "\n",
    "   \n",
    "\n",
    "1) <b>Creating a Class (Initializing/Declaring)</b> <br>\n",
    "2) <b>Using a Class (Instantiating)</b> <br>\n",
    " &nbsp;&nbsp;&nbsp;&nbsp; a) Creating One Instance <br>\n",
    " &nbsp;&nbsp;&nbsp;&nbsp; b) Creating Multiple Instances <br>\n",
    " &nbsp;&nbsp;&nbsp;&nbsp; c) In-Class Exercise #1 - Create a Class 'Car' and instantiate three different makes of cars <br>\n",
    "3) <b>The \\__init\\__() Method</b> <br>\n",
    " &nbsp;&nbsp;&nbsp;&nbsp; a) The 'self' Attribute <br>\n",
    "4) <b>Class Attributes</b> <br>\n",
    " &nbsp;&nbsp;&nbsp;&nbsp; a) Initializing Attributes <br>\n",
    " &nbsp;&nbsp;&nbsp;&nbsp; b) Setting an Attribute Outside of the \\__init\\__() Method <br>\n",
    " &nbsp;&nbsp;&nbsp;&nbsp; c) Setting Defaults for Attributes <br>\n",
    " &nbsp;&nbsp;&nbsp;&nbsp; d) Accessing Class Attributes <br>\n",
    " &nbsp;&nbsp;&nbsp;&nbsp; e) Changing Class Attributes <br>\n",
    " &nbsp;&nbsp;&nbsp;&nbsp; f) In-Class Exercise #2 - Add a color and wheels attribute to your 'Car' class <br>\n",
    "5) <b>Class Methods</b> <br>\n",
    " &nbsp;&nbsp;&nbsp;&nbsp; a) Creating <br>\n",
    " &nbsp;&nbsp;&nbsp;&nbsp; b) Calling <br>\n",
    " &nbsp;&nbsp;&nbsp;&nbsp; c) Modifying an Attribute's Value Through a Method <br>\n",
    " &nbsp;&nbsp;&nbsp;&nbsp; d) Incrementing an Attribute's Value Through a Method <br>\n",
    " &nbsp;&nbsp;&nbsp;&nbsp; e) In-Class Exercise #3 - Add a method that prints the cars color and wheel number, then call them <br>\n",
    "6) <b>Inheritance</b> <br>\n",
    " &nbsp;&nbsp;&nbsp;&nbsp; a) Syntax for Inheriting from a Parent Class <br>\n",
    " &nbsp;&nbsp;&nbsp;&nbsp; b) The \\__init\\__() Method for a Child Class (super()) <br>\n",
    " &nbsp;&nbsp;&nbsp;&nbsp; c) Defining Attributes and Methods for the Child Class <br>\n",
    " &nbsp;&nbsp;&nbsp;&nbsp; d) Method Overriding <br>\n",
    " &nbsp;&nbsp;&nbsp;&nbsp; e) In-Class Exercise #4 - Create a class 'Ford' that inherits from 'Car' class and initialize it as a Blue Ford Explorer with 4 wheels using the super() method <br>\n",
    "7) <b>Classes as Attributes</b> <br>\n",
    "8) <b>Exercises</b> <br>\n",
    " &nbsp;&nbsp;&nbsp;&nbsp; a) Exercise #1 - Turn the shopping cart program from yesterday into an object-oriented program <br>"
   ]
  },
  {
   "cell_type": "markdown",
   "metadata": {},
   "source": [
    "## Creating a Class (Initializing/Declaring)\n",
    "<p>When creating a class, function, or even a variable you are initializing that object. Initializing and Declaring occur at the same time in Python, whereas in lower level languages you have to declare an object before initializing it. This is the first step in the process of using a class.</p>"
   ]
  },
  {
   "cell_type": "code",
   "execution_count": 4,
   "metadata": {},
   "outputs": [],
   "source": [
    "class Car():\n",
    "    wheels = 4\n",
    "    color = 'blue'"
   ]
  },
  {
   "cell_type": "markdown",
   "metadata": {},
   "source": [
    "## Using a Class (Instantiating)\n",
    "<p>The process of creating a class is called <i>Instantiating</i>. Each time you create a variable of that type of class, it is referred to as an <i>Instance</i> of that class. This is the second step in the process of using a class.</p>"
   ]
  },
  {
   "cell_type": "markdown",
   "metadata": {},
   "source": [
    "##### Creating One Instance"
   ]
  },
  {
   "cell_type": "code",
   "execution_count": null,
   "metadata": {},
   "outputs": [],
   "source": [
    "ford = Car()\n",
    "\n",
    "print(ford.color)"
   ]
  },
  {
   "cell_type": "markdown",
   "metadata": {},
   "source": [
    "##### Creating Multiple Instances"
   ]
  },
  {
   "cell_type": "code",
   "execution_count": null,
   "metadata": {},
   "outputs": [],
   "source": [
    "nissan = Car()\n",
    "chevy = Car()\n",
    "lambo = Car()\n",
    "\n",
    "print(nissan.color)"
   ]
  },
  {
   "cell_type": "markdown",
   "metadata": {},
   "source": [
    "##### In-Class Exercise #1 - Create a Class 'Car' and Instantiate three different makes of cars"
   ]
  },
  {
   "cell_type": "code",
   "execution_count": 1,
   "metadata": {},
   "outputs": [
    {
     "name": "stdout",
     "output_type": "stream",
     "text": [
      "blue\n"
     ]
    }
   ],
   "source": [
    "class Car():\n",
    "    wheels = 4\n",
    "    color = 'blue'\n",
    "\n",
    "chevy = Car()\n",
    "toyota = Car()\n",
    "nissan = Car()\n",
    "\n",
    "print(chevy.color)"
   ]
  },
  {
   "cell_type": "markdown",
   "metadata": {},
   "source": [
    "## The \\__init\\__() Method <br>\n",
    "<p>This method is used in almost every created class, and called only once upon the creation of the class instance. This method will initialize all variables needed for the object.</p>"
   ]
  },
  {
   "cell_type": "code",
   "execution_count": 3,
   "metadata": {},
   "outputs": [
    {
     "data": {
      "text/plain": [
       "'mustang'"
      ]
     },
     "execution_count": 3,
     "metadata": {},
     "output_type": "execute_result"
    }
   ],
   "source": [
    "class Car():\n",
    "    wheels = 4 \n",
    "    def __init__(self, make, model, color):\n",
    "        self.make = make\n",
    "        self.model = model\n",
    "        self.color = color\n",
    "\n",
    "nissan = Car('nissan', '370z', 'black')\n",
    "ford = Car('ford', 'mustang', 'red')\n",
    "\n",
    "ford.model"
   ]
  },
  {
   "cell_type": "markdown",
   "metadata": {},
   "source": [
    "##### The 'self' Attribute <br>\n",
    "<p>This attribute is required to keep track of specific instance's attributes. Without the self attribute, the program would not know how to reference or keep track of an instance's attributes.</p>"
   ]
  },
  {
   "cell_type": "code",
   "execution_count": null,
   "metadata": {},
   "outputs": [],
   "source": [
    "# see above"
   ]
  },
  {
   "cell_type": "markdown",
   "metadata": {},
   "source": [
    "## Class Attributes <br>\n",
    "<p>While variables are inside of a class, they are referred to as attributes and not variables. When someone says 'attribute' you know they're speaking about a class. Attributes can be initialized through the init method, or outside of it.</p>"
   ]
  },
  {
   "cell_type": "markdown",
   "metadata": {},
   "source": [
    "##### Initializing Attributes"
   ]
  },
  {
   "cell_type": "code",
   "execution_count": null,
   "metadata": {},
   "outputs": [],
   "source": [
    "# see above"
   ]
  },
  {
   "cell_type": "markdown",
   "metadata": {},
   "source": [
    "##### Accessing Class Attributes"
   ]
  },
  {
   "cell_type": "code",
   "execution_count": null,
   "metadata": {
    "scrolled": true
   },
   "outputs": [],
   "source": [
    "# See Above"
   ]
  },
  {
   "cell_type": "markdown",
   "metadata": {},
   "source": [
    "##### Setting Defaults for Attributes"
   ]
  },
  {
   "cell_type": "code",
   "execution_count": 6,
   "metadata": {},
   "outputs": [],
   "source": [
    "class NflTeams():\n",
    "    def __init__(self, city, team_name, jersey_color, country='america'):\n",
    "        self.city = city\n",
    "        self.team_name = team_name\n",
    "        self.jersey_color = jersey_color\n",
    "        self.country = country\n",
    "\n",
    "    def printInfo(self):\n",
    "        return f'The city {self.city} has the NFL team {self.team_name} and their jersey color is {self.jersey_color}'\n",
    "\n",
    "eagles = NflTeams('Philly', 'Eagles', 'Green')\n",
    "eagles.printInfo()\n",
    "eagles.country\n",
    "eagles.__dict__\n",
    "eagles.city = 'LA'"
   ]
  },
  {
   "attachments": {},
   "cell_type": "markdown",
   "metadata": {},
   "source": [
    "##### Changing Instance Attributes <br>\n",
    "<p>Keep in mind there are global class attributes and then there are attributes only available to each class instance which won't effect other classes.</p>"
   ]
  },
  {
   "cell_type": "code",
   "execution_count": null,
   "metadata": {},
   "outputs": [],
   "source": [
    "# see above"
   ]
  },
  {
   "cell_type": "markdown",
   "metadata": {},
   "source": [
    "##### In-Class Exercise #2 - Add a doors and seats attribute to your 'Car' class then print out two different instances with different doors and seats"
   ]
  },
  {
   "cell_type": "code",
   "execution_count": 10,
   "metadata": {},
   "outputs": [
    {
     "data": {
      "text/plain": [
       "'My vehicle is a chevy colorado that is the color blue. It has 4 doors and 3 seats.'"
      ]
     },
     "execution_count": 10,
     "metadata": {},
     "output_type": "execute_result"
    }
   ],
   "source": [
    "class Car():\n",
    "    def __init__(self, make, model, color, doors, seats):\n",
    "        self.make = make\n",
    "        self.model = model\n",
    "        self.color = color\n",
    "        self.doors = doors\n",
    "        self.seats = seats\n",
    "\n",
    "    def printInfo(self):\n",
    "        return f'My vehicle is a {self.make} {self.model} that is the color {self.color}. It has {self.doors} doors and {self.seats} seats.'\n",
    "\n",
    "chevy = Car('chevy', 'colorado', 'blue', 4, 3)\n",
    "dodge = Car('dodge', 'ram', 'red', 2, 1)\n",
    "\n",
    "dodge.doors\n",
    "dodge.seats\n",
    "chevy.doors\n",
    "chevy.seats\n",
    "\n",
    "dodge.printInfo()\n",
    "chevy.printInfo()"
   ]
  },
  {
   "cell_type": "markdown",
   "metadata": {},
   "source": [
    "## Class Methods <br>\n",
    "<p>While inside of a class, functions are referred to as 'methods'. If you hear someone mention methods, they're speaking about classes. Methods are essentially functions, but only callable on the instances of a class.</p>"
   ]
  },
  {
   "cell_type": "markdown",
   "metadata": {},
   "source": [
    "##### Creating"
   ]
  },
  {
   "cell_type": "code",
   "execution_count": 21,
   "metadata": {},
   "outputs": [
    {
     "name": "stdout",
     "output_type": "stream",
     "text": [
      "kobe has been added to the LA Lakers.\n",
      "Your current roster is: {'kobe': 8}\n",
      "jo has been added to the LA Lakers.\n",
      "Your current roster is: {'kobe': 8, 'jo': 8}\n",
      "Invalid option, please choose (add, show, delete)(type 'q' to quit.)\n",
      "Invalid option, please choose (add, show, delete)(type 'q' to quit.)\n",
      "You currently have 2 players on your team!\n",
      "---------- Current Roster for the LA Lakers -----------\n",
      "kobe 8\n",
      "jo 8\n",
      "kayla has been added to the LA Lakers.\n",
      "Your current roster is: {'kobe': 8, 'jo': 8, 'kayla': 88}\n",
      "jo has been removed from your team\n",
      "Your current roster is: {'kobe': 8, 'kayla': 88}\n",
      "You currently have 2 players on your team!\n",
      "---------- Current Roster for the LA Lakers -----------\n",
      "kobe 8\n",
      "kayla 88\n",
      "Good luck this season!\n"
     ]
    }
   ],
   "source": [
    "class Roster():\n",
    "    def __init__(self, city, team_name, country='united states'):\n",
    "        self.city = city\n",
    "        self.team_name = team_name\n",
    "        self.country = country\n",
    "        # can still use but not in attributes\n",
    "        self.depth_cart = {}\n",
    "        self.number_of_players = 0\n",
    "\n",
    "    # make methods to handle different things\n",
    "    # add player\n",
    "    def add_player(self):\n",
    "        name = input(\"What is the player's name that you would like to add? \")\n",
    "        number = int(input(f\"What jersey number will {name} have? \"))\n",
    "        self.depth_cart[name] = number\n",
    "        self.number_of_players += 1\n",
    "        print(f\"{name} has been added to the {self.city} {self.team_name}.\")\n",
    "        print(f\"Your current roster is: {self.depth_cart}\")\n",
    "\n",
    "    # delete player\n",
    "    def delete_player(self):\n",
    "        name = input(\"What player would you like to delete? \")\n",
    "        if name in self.depth_cart:\n",
    "            print(f\"{name} has been removed from your team\")\n",
    "            del self.depth_cart[name]\n",
    "            self.number_of_players -= 1\n",
    "            print(f\"Your current roster is: {self.depth_cart}\")\n",
    "        else:\n",
    "            print(f\"{name} is not on your team.\")\n",
    "\n",
    "    # show players\n",
    "    def show_players(self):\n",
    "        print(f\"You currently have {self.number_of_players} players on your team!\")\n",
    "        print(f\"---------- Current Roster for the {self.city} {self.team_name} -----------\")\n",
    "        for key, value in self.depth_cart.items():\n",
    "            print(key, value)\n",
    "\n",
    "    # runner method\n",
    "    def runner(self):\n",
    "        while True:\n",
    "            user_choice = input(\"What would you like to do? (add, show, delete) (tyype 'q' to quit)\").lower()\n",
    "            if user_choice == 'q':\n",
    "                self.show_players()\n",
    "                print(\"Good luck this season!\")\n",
    "                break\n",
    "            elif user_choice == 'add':\n",
    "                self.add_player()\n",
    "            elif user_choice == 'show':\n",
    "                self.show_players()\n",
    "            elif user_choice == 'delete':\n",
    "                self.delete_player()\n",
    "            else:\n",
    "                print(\"Invalid option, please choose (add, show, delete)(type 'q' to quit.)\")\n",
    "\n",
    "\n",
    "team1 = Roster('LA', \"Lakers\")\n",
    "\n",
    "team1.runner()\n",
    "\n"
   ]
  },
  {
   "cell_type": "markdown",
   "metadata": {},
   "source": [
    "##### Calling"
   ]
  },
  {
   "cell_type": "code",
   "execution_count": null,
   "metadata": {},
   "outputs": [],
   "source": [
    "# See Above"
   ]
  },
  {
   "cell_type": "markdown",
   "metadata": {},
   "source": [
    "##### Modifying an Attribute's Value Through a Method"
   ]
  },
  {
   "cell_type": "code",
   "execution_count": null,
   "metadata": {},
   "outputs": [],
   "source": [
    "# see above\n",
    "# modifying the self.depth_chart attribute"
   ]
  },
  {
   "cell_type": "markdown",
   "metadata": {},
   "source": [
    "##### Incrementing an Attribute's Value Through a Method"
   ]
  },
  {
   "cell_type": "code",
   "execution_count": null,
   "metadata": {},
   "outputs": [],
   "source": [
    "# see above\n",
    "# incrementing the self.number_of_players attribute"
   ]
  },
  {
   "cell_type": "markdown",
   "metadata": {},
   "source": [
    "## Inheritance <br>\n",
    "<p>You can create a child-parent relationship between two classes by using inheritance. What this allows you to do is have overriding methods, but also inherit traits from the parent class. Think of it as an actual parent and child, the child will inherit the parent's genes, as will the classes in OOP</p>"
   ]
  },
  {
   "cell_type": "markdown",
   "metadata": {},
   "source": [
    "##### Syntax for Inheriting from a Parent Class"
   ]
  },
  {
   "cell_type": "code",
   "execution_count": 24,
   "metadata": {},
   "outputs": [
    {
     "data": {
      "text/plain": [
       "'this is coming from the parent class'"
      ]
     },
     "execution_count": 24,
     "metadata": {},
     "output_type": "execute_result"
    }
   ],
   "source": [
    "class Animal(): # parent class\n",
    "    def __init__(self, name, species, legs=4):\n",
    "        self.name = name\n",
    "        self.species = species\n",
    "        self.legs = legs\n",
    "\n",
    "    def printInfo(self):\n",
    "        return 'this is coming from the parent class'\n",
    "\n",
    "class Dog(Animal): # child class\n",
    "    def __init__(self, name, dog_type, size, legs=4):\n",
    "        super().__init__(name, legs) # What you are inheriting from parent class # super immediately looks inside of the parentheses of the child Class\n",
    "        self.dog_type = dog_type\n",
    "        self.size = size\n",
    "\n",
    "    def printInfoChild(self):\n",
    "        return f\"this is a {self.size} sized {self.dog_type} with {self.legs} legs and it's name is {self.name}\"\n",
    "\n",
    "dylans_dog = Dog('Rhiannon', 'blue-nosed pitbull', 'big')\n",
    "dylans_dog.printInfoChild()\n",
    "dylans_dog.printInfo()\n"
   ]
  },
  {
   "cell_type": "markdown",
   "metadata": {},
   "source": [
    "##### The \\__init\\__() Method for a Child Class - super()"
   ]
  },
  {
   "cell_type": "code",
   "execution_count": null,
   "metadata": {
    "scrolled": true
   },
   "outputs": [],
   "source": [
    "# see above"
   ]
  },
  {
   "cell_type": "markdown",
   "metadata": {},
   "source": [
    "##### Defining Attributes and Methods for the Child Class"
   ]
  },
  {
   "cell_type": "code",
   "execution_count": 28,
   "metadata": {},
   "outputs": [
    {
     "data": {
      "text/plain": [
       "'v6'"
      ]
     },
     "execution_count": 28,
     "metadata": {},
     "output_type": "execute_result"
    }
   ],
   "source": [
    "class Engine(): # Parent class\n",
    "    def __init__(self, engine):\n",
    "        self.engine = engine\n",
    "\n",
    "class Car(Engine):\n",
    "    def __init__(self, engine, make, model, year):\n",
    "        super().__init__(engine)\n",
    "        self.make = make\n",
    "        self.model = model\n",
    "        self.year = year\n",
    "\n",
    "    def printInfo(self):\n",
    "        return f\"This is a {self.year} {self.make} {self.model}\"\n",
    "\n",
    "v8_engine = Engine('v8')\n",
    "v6_engine = Engine('v6')\n",
    "\n",
    "masons_car = Car(v6_engine.engine, 'toyota', 'tacoma', 2023)\n",
    "kaylas_car = Car(v6_engine.engine, 'nissan', 'frontier', 2023)\n",
    "dyalns_car = Car(v8_engine.engine, 'ford', 'bronco', 1965)\n",
    "masons_car.printInfo()\n",
    "masons_car.engine\n"
   ]
  },
  {
   "cell_type": "markdown",
   "metadata": {},
   "source": [
    "## Classes as Attributes <br>\n",
    "<p>Classes can also be used as attributes within another class. This is useful in situations where you need to keep variables locally stored, instead of globally stored.</p>"
   ]
  },
  {
   "cell_type": "code",
   "execution_count": null,
   "metadata": {},
   "outputs": [],
   "source": []
  },
  {
   "cell_type": "markdown",
   "metadata": {},
   "source": [
    "# Exercises"
   ]
  },
  {
   "cell_type": "markdown",
   "metadata": {},
   "source": [
    "### Exercise 1 - Turn the shopping cart program from yesterday into an object-oriented program\n",
    "\n",
    "The comments in the cell below are there as a guide for thinking about the problem. However, if you feel a different way is best for you and your own thought process, please do what feels best for you by all means."
   ]
  },
  {
   "cell_type": "code",
   "execution_count": 2,
   "metadata": {},
   "outputs": [
    {
     "name": "stdout",
     "output_type": "stream",
     "text": [
      "Added apple\n",
      "['apple']\n",
      "Added banana\n",
      "['apple', 'banana']\n",
      "Added broccoli\n",
      "['apple', 'banana', 'broccoli']\n",
      "Removed broccoli\n",
      "['apple', 'banana']\n",
      "Added broccoli\n",
      "['apple', 'banana', 'broccoli']\n",
      "Added chicken\n",
      "['apple', 'banana', 'broccoli', 'chicken']\n",
      "Removed banana\n",
      "['apple', 'broccoli', 'chicken']\n",
      "Current Shopping List:\n",
      "['apple', 'broccoli', 'chicken']\n",
      "Current Shopping List:\n",
      "['apple', 'broccoli', 'chicken']\n",
      "Have fun shopping!\n"
     ]
    }
   ],
   "source": [
    "# Create a class called cart that retains items and has methods to add, remove, and show\n",
    "\n",
    "class Cart():\n",
    "    def __init__(self, add, remove, show):\n",
    "        self.add = add\n",
    "        self.remove = remove\n",
    "        self.show = show\n",
    "        self.shopping_list = []\n",
    "\n",
    "    # add to cart\n",
    "    def add_to_cart(self):\n",
    "        # ask what they want to add\n",
    "        add_item = input(\"What would you like to add to your shopping list? \").lower()\n",
    "        self.shopping_list.append(add_item)\n",
    "        print(f'Added {add_item}')\n",
    "        print(self.shopping_list)\n",
    "\n",
    "    # remove from cart\n",
    "    def remove_from_cart(self):\n",
    "        delete_item = input(\"What would you like to delete from your list? \").lower()\n",
    "        # check if item to delete is in list \n",
    "        if delete_item in self.shopping_list:\n",
    "            # if item is in shopping list, delete that item\n",
    "            self.shopping_list.remove(delete_item)\n",
    "            print(f'Removed {delete_item}')\n",
    "            print(self.shopping_list)\n",
    "    \n",
    "    # show shopping cart\n",
    "    def show_shopping_list(self):\n",
    "        print(\"Current Shopping List:\")\n",
    "        print(self.shopping_list)\n",
    "\n",
    "    # runner method\n",
    "    def runner(self):\n",
    "        while True:\n",
    "            user_choice = input(\"What would you like to do? (add, show, remove) (type 'q' to quit)\").lower()\n",
    "            if user_choice == 'q':\n",
    "                self.show_shopping_list()\n",
    "                print(\"Have fun shopping!\")\n",
    "                break\n",
    "            elif user_choice == 'add':\n",
    "                self.add_to_cart()\n",
    "            elif user_choice == 'show':\n",
    "                self.show_shopping_list()\n",
    "            elif user_choice == 'remove':\n",
    "                self.remove_from_cart()\n",
    "            else:\n",
    "                print(\"Invalid option, please choose (add, show, remove) (type 'q' to quit.)\")\n",
    "\n",
    "start_list = Cart('add', 'remove', 'show')\n",
    "start_list.runner()\n",
    "    "
   ]
  },
  {
   "cell_type": "markdown",
   "metadata": {},
   "source": [
    "### Exercise 2 - Write a Python class which has two methods get_String and print_String. get_String accept a string from the user and print_String print the string in upper case"
   ]
  },
  {
   "cell_type": "code",
   "execution_count": 7,
   "metadata": {},
   "outputs": [
    {
     "name": "stdout",
     "output_type": "stream",
     "text": [
      "Your sentence is: how is it going\n",
      "HOW IS IT GOING\n"
     ]
    }
   ],
   "source": [
    "class Print_string():\n",
    "    def __init__(self):\n",
    "        self.string1 = \"\"\n",
    "\n",
    "    def get_string(self):\n",
    "        self.string1 = input(\"Give me a sentence: \").lower()\n",
    "        print(f\"Your sentence is: {self.string1}\")\n",
    " \n",
    "    def print_string(self):\n",
    "        print(self.string1.upper())\n",
    "\n",
    "\n",
    "string1 = Print_string()\n",
    "string1.get_string()\n",
    "string1.print_string()"
   ]
  }
 ],
 "metadata": {
  "kernelspec": {
   "display_name": "Python 3",
   "language": "python",
   "name": "python3"
  },
  "language_info": {
   "codemirror_mode": {
    "name": "ipython",
    "version": 3
   },
   "file_extension": ".py",
   "mimetype": "text/x-python",
   "name": "python",
   "nbconvert_exporter": "python",
   "pygments_lexer": "ipython3",
   "version": "3.10.9"
  },
  "vscode": {
   "interpreter": {
    "hash": "882d6d1debee3847559d48c70282ef1c25bc8ba334c5dc858c19769229bbc1e5"
   }
  }
 },
 "nbformat": 4,
 "nbformat_minor": 2
}
